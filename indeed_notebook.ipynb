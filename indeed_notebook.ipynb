{
 "cells": [
  {
   "cell_type": "markdown",
   "metadata": {},
   "source": [
    "# Exploring the Data Analyst Job Market in Morocco: A Comprehensive Analysis\n"
   ]
  },
  {
   "cell_type": "markdown",
   "metadata": {},
   "source": [
    "## Introduction\n",
    "\n",
    "This Jupyter Notebook project aims to explore and analyze the job market for data analysts in Morocco, focusing on data collected from the popular job platform Indeed. The project is divided into two main sections.\n",
    "\n"
   ]
  },
  {
   "cell_type": "markdown",
   "metadata": {},
   "source": [
    "### Section 1: Data Scraping from Indeed\n",
    "\n",
    "The first section of the project focuses on scraping data from the Indeed website to gather information about data analyst job postings in Morocco. Please note that the current data presented in this notebook represents a previous scraping attempt, as the scraping tool's access has been exhausted.\n"
   ]
  },
  {
   "cell_type": "markdown",
   "metadata": {},
   "source": [
    "##### Job Data Collection and Description Parsing\n",
    "\n",
    "The initial phase of the data collection process involved scraping job listings from the Indeed website, focusing on data analyst positions available in the Moroccan job market. The Python `zenrows` library was utilized to fetch the job search results, and the BeautifulSoup library was employed to parse the HTML content."
   ]
  },
  {
   "cell_type": "code",
   "execution_count": 21,
   "metadata": {},
   "outputs": [],
   "source": [
    "from bs4 import BeautifulSoup\n",
    "import pandas as pd\n",
    "from zenrows import ZenRowsClient"
   ]
  },
  {
   "cell_type": "code",
   "execution_count": 23,
   "metadata": {},
   "outputs": [],
   "source": [
    "def page(num):\n",
    "    url=f'https://ma.indeed.com/jobs?q=data+analyst&l=Maroc&start={(num)*10}'\n",
    "    client = ZenRowsClient(\"8726814efae5c7b6d9aa19e34c3a7496dbd484b7\")\n",
    "    result = client.get(url)\n",
    "    print(result.status_code)\n",
    "    return result.text"
   ]
  },
  {
   "cell_type": "code",
   "execution_count": null,
   "metadata": {},
   "outputs": [],
   "source": [
    "page(0)"
   ]
  },
  {
   "cell_type": "code",
   "execution_count": 26,
   "metadata": {},
   "outputs": [
    {
     "name": "stdout",
     "output_type": "stream",
     "text": [
      "200\n",
      "200\n",
      "200\n",
      "200\n",
      "200\n",
      "200\n",
      "200\n",
      "200\n",
      "200\n",
      "200\n",
      "200\n"
     ]
    }
   ],
   "source": [
    "job_titles=[]\n",
    "link=[]\n",
    "company_name=[]\n",
    "location=[]\n",
    "job_type=[]\n",
    "description=[]\n",
    "\n",
    "\n",
    "\n",
    "\n",
    "for i in range(11):\n",
    "    soup=BeautifulSoup(page(i), 'html')\n",
    "    job_tags=soup.find_all('a', class_=\"jcs-JobTitle css-jspxzf eu4oa1w0\")\n",
    "    for j in range (len(job_tags)):\n",
    "        job_titles.append(job_tags[j].text)\n",
    "    for m in range(len(job_tags)):\n",
    "        link.append('https://ma.indeed.com' +job_tags[m].get('href'))  \n",
    "    tags=soup.find_all('div', class_=\"company_location css-12lvszk e37uo190\")\n",
    "    company=[tag.find('span', class_=\"css-1x7z1ps eu4oa1w0\") for tag in tags]\n",
    "    for i in range(len(company)):\n",
    "        if company[i]== None:\n",
    "            company_name.append('None')\n",
    "        else:    \n",
    "            company_name.append(company[i].text)  \n",
    "    loc=[tag.find('div', class_=\"css-t4u72d eu4oa1w0\") for tag in tags]\n",
    "\n",
    "    for i in range(len(loc)):\n",
    "        if loc[i]== None:\n",
    "           location.append('None')\n",
    "        else:    \n",
    "            location.append(loc[i].text)  \n",
    "    ka=soup.find_all('div', class_=\"slider_container css-8xisqv eu4oa1w0\")\n",
    "    ba=[k.find('div', class_=\"css-1ihavw2 eu4oa1w0\") for k in ka]\n",
    "    for i in range(len(ka)):\n",
    "        if ba[i]== None:\n",
    "           job_type.append('None')\n",
    "        else:\n",
    "           job_type.append(ba[i].text) \n",
    "    snippet=soup.find_all('div', class_=\"job-snippet\")\n",
    "    for n in snippet:\n",
    "        description.append(n.text.strip().replace('\\n', '-'))"
   ]
  },
  {
   "cell_type": "code",
   "execution_count": 28,
   "metadata": {},
   "outputs": [
    {
     "data": {
      "text/plain": [
       "158"
      ]
     },
     "execution_count": 28,
     "metadata": {},
     "output_type": "execute_result"
    }
   ],
   "source": [
    "len(job_titles)"
   ]
  },
  {
   "cell_type": "code",
   "execution_count": 35,
   "metadata": {},
   "outputs": [
    {
     "data": {
      "text/plain": [
       "'https://ma.indeed.com/rc/clk?jk=9199992ed81408bd&fccid=cf80abde47d3bd81&vjs=3'"
      ]
     },
     "execution_count": 35,
     "metadata": {},
     "output_type": "execute_result"
    }
   ],
   "source": [
    "link[0]"
   ]
  },
  {
   "cell_type": "code",
   "execution_count": 30,
   "metadata": {},
   "outputs": [
    {
     "data": {
      "text/plain": [
       "158"
      ]
     },
     "execution_count": 30,
     "metadata": {},
     "output_type": "execute_result"
    }
   ],
   "source": [
    "len(description)"
   ]
  },
  {
   "cell_type": "code",
   "execution_count": 31,
   "metadata": {},
   "outputs": [
    {
     "data": {
      "text/plain": [
       "158"
      ]
     },
     "execution_count": 31,
     "metadata": {},
     "output_type": "execute_result"
    }
   ],
   "source": [
    "len(job_type)"
   ]
  },
  {
   "cell_type": "code",
   "execution_count": 34,
   "metadata": {},
   "outputs": [
    {
     "data": {
      "text/html": [
       "<div>\n",
       "<style scoped>\n",
       "    .dataframe tbody tr th:only-of-type {\n",
       "        vertical-align: middle;\n",
       "    }\n",
       "\n",
       "    .dataframe tbody tr th {\n",
       "        vertical-align: top;\n",
       "    }\n",
       "\n",
       "    .dataframe thead th {\n",
       "        text-align: right;\n",
       "    }\n",
       "</style>\n",
       "<table border=\"1\" class=\"dataframe\">\n",
       "  <thead>\n",
       "    <tr style=\"text-align: right;\">\n",
       "      <th></th>\n",
       "      <th>job</th>\n",
       "      <th>company_name</th>\n",
       "      <th>location</th>\n",
       "      <th>job_type</th>\n",
       "      <th>description</th>\n",
       "      <th>link</th>\n",
       "      <th>date</th>\n",
       "    </tr>\n",
       "  </thead>\n",
       "  <tbody>\n",
       "    <tr>\n",
       "      <th>0</th>\n",
       "      <td>Data Analyst Junior</td>\n",
       "      <td>Mazars</td>\n",
       "      <td>Casablanca</td>\n",
       "      <td>Full-time +1</td>\n",
       "      <td>Vous possédez les connaissances de base parmi ...</td>\n",
       "      <td>https://ma.indeed.com/rc/clk?jk=9199992ed81408...</td>\n",
       "      <td>28/10/2023</td>\n",
       "    </tr>\n",
       "    <tr>\n",
       "      <th>1</th>\n",
       "      <td>DATA ANALYST-(H/F)- H/F/X</td>\n",
       "      <td>Société Générale</td>\n",
       "      <td>Maroc</td>\n",
       "      <td>Permanent</td>\n",
       "      <td>Travailler en étroite collaboration avec les é...</td>\n",
       "      <td>https://ma.indeed.com/rc/clk?jk=b4badc2d01fa4b...</td>\n",
       "      <td>28/10/2023</td>\n",
       "    </tr>\n",
       "    <tr>\n",
       "      <th>2</th>\n",
       "      <td>Data analyst</td>\n",
       "      <td>FCZ</td>\n",
       "      <td>Rabat</td>\n",
       "      <td>None</td>\n",
       "      <td>Nous sommes à la recherche de cinq DATA ANALYS...</td>\n",
       "      <td>https://ma.indeed.com/rc/clk?jk=3c1075a23ed816...</td>\n",
       "      <td>28/10/2023</td>\n",
       "    </tr>\n",
       "    <tr>\n",
       "      <th>3</th>\n",
       "      <td>Data Analyst (F/H)</td>\n",
       "      <td>MANPOWER MAROC</td>\n",
       "      <td>Casablanca</td>\n",
       "      <td>Permanent</td>\n",
       "      <td>Encodage de questionnaire sur logiciel de trai...</td>\n",
       "      <td>https://ma.indeed.com/rc/clk?jk=be7b7dabde0a25...</td>\n",
       "      <td>28/10/2023</td>\n",
       "    </tr>\n",
       "    <tr>\n",
       "      <th>4</th>\n",
       "      <td>Data Quality Analyst Finance</td>\n",
       "      <td>BNP Paribas</td>\n",
       "      <td>Maroc</td>\n",
       "      <td>Permanent</td>\n",
       "      <td>Data management: recensement des anomalies de ...</td>\n",
       "      <td>https://ma.indeed.com/rc/clk?jk=17240d557883f2...</td>\n",
       "      <td>28/10/2023</td>\n",
       "    </tr>\n",
       "    <tr>\n",
       "      <th>5</th>\n",
       "      <td>DATA ANALYST (H/F)</td>\n",
       "      <td>Ifcar Solutions</td>\n",
       "      <td>Skhirate</td>\n",
       "      <td>Permanent</td>\n",
       "      <td>Analyse des données pour les transformer en in...</td>\n",
       "      <td>https://ma.indeed.com/rc/clk?jk=1753c98e22bff0...</td>\n",
       "      <td>28/10/2023</td>\n",
       "    </tr>\n",
       "    <tr>\n",
       "      <th>6</th>\n",
       "      <td>Data Analyst</td>\n",
       "      <td>Leyton Maroc</td>\n",
       "      <td>Casablanca</td>\n",
       "      <td>None</td>\n",
       "      <td>Experience with data cleaning and data preproc...</td>\n",
       "      <td>https://ma.indeed.com/rc/clk?jk=f9b50f1f820586...</td>\n",
       "      <td>28/10/2023</td>\n",
       "    </tr>\n",
       "    <tr>\n",
       "      <th>7</th>\n",
       "      <td>Data analyst</td>\n",
       "      <td>None</td>\n",
       "      <td>Rabat</td>\n",
       "      <td>Permanent</td>\n",
       "      <td>Le Data Analyst sera chargé de collecter, form...</td>\n",
       "      <td>https://ma.indeed.com/rc/clk?jk=074498c4725e92...</td>\n",
       "      <td>28/10/2023</td>\n",
       "    </tr>\n",
       "  </tbody>\n",
       "</table>\n",
       "</div>"
      ],
      "text/plain": [
       "                            job      company_name    location      job_type  \\\n",
       "0           Data Analyst Junior            Mazars  Casablanca  Full-time +1   \n",
       "1     DATA ANALYST-(H/F)- H/F/X  Société Générale       Maroc     Permanent   \n",
       "2                  Data analyst               FCZ       Rabat          None   \n",
       "3            Data Analyst (F/H)    MANPOWER MAROC  Casablanca     Permanent   \n",
       "4  Data Quality Analyst Finance       BNP Paribas       Maroc     Permanent   \n",
       "5            DATA ANALYST (H/F)   Ifcar Solutions    Skhirate     Permanent   \n",
       "6                  Data Analyst      Leyton Maroc  Casablanca          None   \n",
       "7                  Data analyst              None       Rabat     Permanent   \n",
       "\n",
       "                                         description  \\\n",
       "0  Vous possédez les connaissances de base parmi ...   \n",
       "1  Travailler en étroite collaboration avec les é...   \n",
       "2  Nous sommes à la recherche de cinq DATA ANALYS...   \n",
       "3  Encodage de questionnaire sur logiciel de trai...   \n",
       "4  Data management: recensement des anomalies de ...   \n",
       "5  Analyse des données pour les transformer en in...   \n",
       "6  Experience with data cleaning and data preproc...   \n",
       "7  Le Data Analyst sera chargé de collecter, form...   \n",
       "\n",
       "                                                link        date  \n",
       "0  https://ma.indeed.com/rc/clk?jk=9199992ed81408...  28/10/2023  \n",
       "1  https://ma.indeed.com/rc/clk?jk=b4badc2d01fa4b...  28/10/2023  \n",
       "2  https://ma.indeed.com/rc/clk?jk=3c1075a23ed816...  28/10/2023  \n",
       "3  https://ma.indeed.com/rc/clk?jk=be7b7dabde0a25...  28/10/2023  \n",
       "4  https://ma.indeed.com/rc/clk?jk=17240d557883f2...  28/10/2023  \n",
       "5  https://ma.indeed.com/rc/clk?jk=1753c98e22bff0...  28/10/2023  \n",
       "6  https://ma.indeed.com/rc/clk?jk=f9b50f1f820586...  28/10/2023  \n",
       "7  https://ma.indeed.com/rc/clk?jk=074498c4725e92...  28/10/2023  "
      ]
     },
     "execution_count": 34,
     "metadata": {},
     "output_type": "execute_result"
    }
   ],
   "source": [
    "dic={'job': job_titles,\n",
    "     'company_name': company_name,\n",
    "     'location': location,\n",
    "     'job_type' : job_type,\n",
    "     'description': description,\n",
    "     'link': link,\n",
    "    'date':['28/10/2023']*158}\n",
    "df=pd.DataFrame(dic)\n",
    "df.head(8)"
   ]
  },
  {
   "cell_type": "code",
   "execution_count": 36,
   "metadata": {},
   "outputs": [],
   "source": [
    "df.to_csv('indeed_jobs3.csv', index=False)"
   ]
  },
  {
   "cell_type": "markdown",
   "metadata": {},
   "source": [
    "##### Detailed Job Description Extraction\n",
    "\n",
    "Upon obtaining the basic job information such as titles and companies, the data scraping process was extended to extract the full job descriptions from the individual job links. By parsing the HTML structure of the job description pages, we were able to retrieve comprehensive details about the responsibilities, qualifications, and required skills for each job posting.\n"
   ]
  },
  {
   "cell_type": "code",
   "execution_count": 38,
   "metadata": {},
   "outputs": [],
   "source": [
    "def get_page(site):\n",
    "\n",
    "    client = ZenRowsClient(\"8726814efae5c7b6d9aa19e34c3a7496dbd484b7\")\n",
    "    result = client.get(site)\n",
    "    return result.text"
   ]
  },
  {
   "cell_type": "code",
   "execution_count": null,
   "metadata": {},
   "outputs": [],
   "source": [
    "competences=[]\n",
    "for site in df['link']:\n",
    "    s=BeautifulSoup(get_page(site), 'html')\n",
    "    elements=s.find_all('div', class_=\"jobsearch-jobDescriptionText jobsearch-JobComponent-description css-1x2lix0 eu4oa1w0\")\n",
    "    skills=[]\n",
    "    for l in elements:\n",
    "        liste=l.find_all('li')\n",
    "        for l in liste:\n",
    "            skills.append(l.text)\n",
    "    competences.append(skills)\n",
    "competences   "
   ]
  },
  {
   "cell_type": "code",
   "execution_count": 40,
   "metadata": {},
   "outputs": [
    {
     "data": {
      "text/plain": [
       "158"
      ]
     },
     "execution_count": 40,
     "metadata": {},
     "output_type": "execute_result"
    }
   ],
   "source": [
    "len(competences)"
   ]
  },
  {
   "cell_type": "markdown",
   "metadata": {},
   "source": [
    "##### Skill Identification and Analysis\n",
    "\n",
    "The extracted job descriptions were processed using natural language processing techniques to identify and analyze the most frequently mentioned skills and qualifications. This facilitated the exploration of the key technologies and proficiencies sought after by employers in the field of data analysis in Morocco.\n",
    "\n",
    "Please proceed to the subsequent sections for a detailed examination of the skills and qualifications demanded by employers, along with insights into the trends and patterns observed in the job market for data analysts in Morocco."
   ]
  },
  {
   "cell_type": "code",
   "execution_count": 41,
   "metadata": {},
   "outputs": [],
   "source": [
    "import re\n",
    "search_programing = ['Python', 'R', 'SQL', 'Java', 'SAS', 'C++', 'C#', 'PHP']\n",
    "pattern = '|'.join(map(re.escape, search_programing))  # Escape the special characters\n",
    "skwils=[]\n",
    "for c in competences:\n",
    "    lama=[]\n",
    "    for string in c:\n",
    "\n",
    "# Find all occurrences of the pattern in the string\n",
    "        matches = re.finditer(pattern, string)\n",
    "\n",
    "# Extract the matched terms\n",
    "        lama.extend([match.group(0) for match in matches])\n",
    "\n",
    "    skwils.append(lama)    \n"
   ]
  },
  {
   "cell_type": "code",
   "execution_count": null,
   "metadata": {},
   "outputs": [],
   "source": [
    "skwils"
   ]
  },
  {
   "cell_type": "code",
   "execution_count": 52,
   "metadata": {},
   "outputs": [],
   "source": [
    "search_tools = ['Microsoft Excel','Google Sheets','Pandas','NumPy','dplyr']\n",
    "base_tools = ['MySQL','PostgreSQL','Microsoft SQL Server','Oracle','MongoDB']\n",
    "vis_tools = ['Tableau','Power BI','QlikView','matplotlib','Seaborn']\n",
    "search_programing = ['Python', 'R', 'SQL', 'Java', 'SAS', 'C++', 'C#', 'PHP']\n",
    "pattern = '|'.join(map(re.escape, search_programing))\n",
    "pattern1 = '|'.join(map(re.escape, search_tools))\n",
    "pattern2 = '|'.join(map(re.escape, vis_tools))\n",
    "pattern3 = '|'.join(map(re.escape, base_tools))  # Escape the special characters\n",
    "programming_language=[]\n",
    "manipulation=[]\n",
    "visual=[]\n",
    "bdd=[]\n",
    "for c in competences:\n",
    "    lama=[]\n",
    "    alpha=[]\n",
    "    beta=[]\n",
    "    gama=[]\n",
    "    for string in c:\n",
    "\n",
    "# Find all occurrences of the pattern in the string\n",
    "        matches = re.finditer(pattern, string)\n",
    "        matches1 = re.finditer(pattern1, string)\n",
    "        matches2 = re.finditer(pattern2, string)\n",
    "        matches3 = re.finditer(pattern3, string)\n",
    "\n",
    "# Extract the matched terms\n",
    "        lama.extend([match.group(0) for match in matches])\n",
    "        alpha.extend([match.group(0) for match in matches1])\n",
    "        beta.extend([match.group(0) for match in matches2])\n",
    "        gama.extend([match.group(0) for match in matches3])\n",
    "    programming_language.append(lama)\n",
    "    manipulation.append(alpha)\n",
    "    visual.append(beta)\n",
    "    bdd.append(gama)    \n"
   ]
  },
  {
   "cell_type": "code",
   "execution_count": null,
   "metadata": {},
   "outputs": [],
   "source": [
    "programming_language"
   ]
  },
  {
   "cell_type": "code",
   "execution_count": 61,
   "metadata": {},
   "outputs": [
    {
     "data": {
      "text/html": [
       "<div>\n",
       "<style scoped>\n",
       "    .dataframe tbody tr th:only-of-type {\n",
       "        vertical-align: middle;\n",
       "    }\n",
       "\n",
       "    .dataframe tbody tr th {\n",
       "        vertical-align: top;\n",
       "    }\n",
       "\n",
       "    .dataframe thead th {\n",
       "        text-align: right;\n",
       "    }\n",
       "</style>\n",
       "<table border=\"1\" class=\"dataframe\">\n",
       "  <thead>\n",
       "    <tr style=\"text-align: right;\">\n",
       "      <th></th>\n",
       "      <th>programming_language</th>\n",
       "      <th>data-manipulation</th>\n",
       "      <th>data-visualisation</th>\n",
       "      <th>database</th>\n",
       "    </tr>\n",
       "  </thead>\n",
       "  <tbody>\n",
       "    <tr>\n",
       "      <th>0</th>\n",
       "      <td>[SQL]</td>\n",
       "      <td>[]</td>\n",
       "      <td>[Tableau]</td>\n",
       "      <td>[]</td>\n",
       "    </tr>\n",
       "    <tr>\n",
       "      <th>1</th>\n",
       "      <td>[R, Python]</td>\n",
       "      <td>[]</td>\n",
       "      <td>[Power BI]</td>\n",
       "      <td>[]</td>\n",
       "    </tr>\n",
       "    <tr>\n",
       "      <th>2</th>\n",
       "      <td>[R]</td>\n",
       "      <td>[]</td>\n",
       "      <td>[]</td>\n",
       "      <td>[]</td>\n",
       "    </tr>\n",
       "    <tr>\n",
       "      <th>3</th>\n",
       "      <td>[R, R, R, R]</td>\n",
       "      <td>[]</td>\n",
       "      <td>[]</td>\n",
       "      <td>[]</td>\n",
       "    </tr>\n",
       "    <tr>\n",
       "      <th>4</th>\n",
       "      <td>[R, R, R, R, R]</td>\n",
       "      <td>[]</td>\n",
       "      <td>[Tableau]</td>\n",
       "      <td>[Oracle]</td>\n",
       "    </tr>\n",
       "    <tr>\n",
       "      <th>...</th>\n",
       "      <td>...</td>\n",
       "      <td>...</td>\n",
       "      <td>...</td>\n",
       "      <td>...</td>\n",
       "    </tr>\n",
       "    <tr>\n",
       "      <th>153</th>\n",
       "      <td>[R, R, SQL, R, SQL, SQL, R, R, SQL, SQL, SQL, ...</td>\n",
       "      <td>[]</td>\n",
       "      <td>[Power BI]</td>\n",
       "      <td>[Microsoft SQL Server, Oracle, Oracle, MongoDB]</td>\n",
       "    </tr>\n",
       "    <tr>\n",
       "      <th>154</th>\n",
       "      <td>[R]</td>\n",
       "      <td>[]</td>\n",
       "      <td>[]</td>\n",
       "      <td>[]</td>\n",
       "    </tr>\n",
       "    <tr>\n",
       "      <th>155</th>\n",
       "      <td>[R]</td>\n",
       "      <td>[]</td>\n",
       "      <td>[]</td>\n",
       "      <td>[]</td>\n",
       "    </tr>\n",
       "    <tr>\n",
       "      <th>156</th>\n",
       "      <td>[]</td>\n",
       "      <td>[]</td>\n",
       "      <td>[]</td>\n",
       "      <td>[]</td>\n",
       "    </tr>\n",
       "    <tr>\n",
       "      <th>157</th>\n",
       "      <td>[]</td>\n",
       "      <td>[]</td>\n",
       "      <td>[]</td>\n",
       "      <td>[]</td>\n",
       "    </tr>\n",
       "  </tbody>\n",
       "</table>\n",
       "<p>158 rows × 4 columns</p>\n",
       "</div>"
      ],
      "text/plain": [
       "                                  programming_language data-manipulation  \\\n",
       "0                                                [SQL]                []   \n",
       "1                                          [R, Python]                []   \n",
       "2                                                  [R]                []   \n",
       "3                                         [R, R, R, R]                []   \n",
       "4                                      [R, R, R, R, R]                []   \n",
       "..                                                 ...               ...   \n",
       "153  [R, R, SQL, R, SQL, SQL, R, R, SQL, SQL, SQL, ...                []   \n",
       "154                                                [R]                []   \n",
       "155                                                [R]                []   \n",
       "156                                                 []                []   \n",
       "157                                                 []                []   \n",
       "\n",
       "    data-visualisation                                         database  \n",
       "0            [Tableau]                                               []  \n",
       "1           [Power BI]                                               []  \n",
       "2                   []                                               []  \n",
       "3                   []                                               []  \n",
       "4            [Tableau]                                         [Oracle]  \n",
       "..                 ...                                              ...  \n",
       "153         [Power BI]  [Microsoft SQL Server, Oracle, Oracle, MongoDB]  \n",
       "154                 []                                               []  \n",
       "155                 []                                               []  \n",
       "156                 []                                               []  \n",
       "157                 []                                               []  \n",
       "\n",
       "[158 rows x 4 columns]"
      ]
     },
     "execution_count": 61,
     "metadata": {},
     "output_type": "execute_result"
    }
   ],
   "source": [
    "dic1={'programming_language': programming_language,\n",
    "      'data-manipulation': manipulation,\n",
    "      'data-visualisation': visual,\n",
    "      'database': bdd\n",
    "      }\n",
    "df1=pd.DataFrame(dic1)\n",
    "df1"
   ]
  },
  {
   "cell_type": "markdown",
   "metadata": {},
   "source": [
    "### Section 2: Data Cleaning and Visualization\n",
    "\n",
    "The second section involves data cleaning and visualization. Even though the data scraping cannot be repeated in this notebook, the subsequent data cleaning and visualization sections showcase the steps involved in preparing and analyzing the obtained data.\n",
    "\n",
    "The primary goal of this project is to provide insights into the requirements and trends in the data analyst job market in Morocco, highlighting the key skills and technologies in demand. Throughout the notebook, detailed explanations and visual representations are provided to facilitate understanding and interpretation of the data.\n",
    "\n",
    "Please refer to the subsequent sections for a comprehensive exploration of the collected data and the findings derived from the analysis.\n",
    "\n",
    "---\n"
   ]
  },
  {
   "cell_type": "markdown",
   "metadata": {},
   "source": [
    "#### Data Cleaning and Preparation\n",
    "\n",
    "Following the initial data scraping process, the obtained data underwent thorough cleaning and preparation. This involved handling missing values, standardizing data formats, and converting relevant features into appropriate data types for analysis. The cleaned data was then organized and structured for further exploration and visualization.\n"
   ]
  },
  {
   "cell_type": "code",
   "execution_count": 62,
   "metadata": {},
   "outputs": [],
   "source": [
    "df2=df1.copy"
   ]
  },
  {
   "cell_type": "markdown",
   "metadata": {},
   "source": [
    "The code snippet below is used to remove brackets from each row within the specified lists ('visual', 'programming_language', 'manipulation', and 'bdd'). It converts each sublist into a string format and joins the elements within the sublist using a comma, resulting in a clean and formatted representation of the data."
   ]
  },
  {
   "cell_type": "code",
   "execution_count": 71,
   "metadata": {},
   "outputs": [],
   "source": [
    "cleaned_vis = [', '.join(filter(None, sublist)) for sublist in visual]\n",
    "cleaned_pro= [', '.join(filter(None, sublist)) for sublist in programming_language]\n",
    "cleaned_man= [', '.join(filter(None, sublist)) for sublist in manipulation]\n",
    "cleaned_bdd= [', '.join(filter(None, sublist)) for sublist in bdd]\n",
    "\n",
    "\n"
   ]
  },
  {
   "cell_type": "code",
   "execution_count": 72,
   "metadata": {},
   "outputs": [],
   "source": [
    "dic3={'programming_language': cleaned_pro,\n",
    "      'data-manipulation': cleaned_man,\n",
    "      'data-visualisation': cleaned_vis,\n",
    "      'database': cleaned_bdd\n",
    "      }\n",
    "df3=pd.DataFrame(dic3)"
   ]
  },
  {
   "cell_type": "code",
   "execution_count": 90,
   "metadata": {},
   "outputs": [
    {
     "data": {
      "text/html": [
       "<div>\n",
       "<style scoped>\n",
       "    .dataframe tbody tr th:only-of-type {\n",
       "        vertical-align: middle;\n",
       "    }\n",
       "\n",
       "    .dataframe tbody tr th {\n",
       "        vertical-align: top;\n",
       "    }\n",
       "\n",
       "    .dataframe thead th {\n",
       "        text-align: right;\n",
       "    }\n",
       "</style>\n",
       "<table border=\"1\" class=\"dataframe\">\n",
       "  <thead>\n",
       "    <tr style=\"text-align: right;\">\n",
       "      <th></th>\n",
       "      <th>programming_language</th>\n",
       "      <th>data-manipulation</th>\n",
       "      <th>data-visualisation</th>\n",
       "      <th>database</th>\n",
       "    </tr>\n",
       "  </thead>\n",
       "  <tbody>\n",
       "    <tr>\n",
       "      <th>0</th>\n",
       "      <td>SQL</td>\n",
       "      <td></td>\n",
       "      <td>Tableau</td>\n",
       "      <td></td>\n",
       "    </tr>\n",
       "    <tr>\n",
       "      <th>1</th>\n",
       "      <td>R, Python</td>\n",
       "      <td></td>\n",
       "      <td>Power BI</td>\n",
       "      <td></td>\n",
       "    </tr>\n",
       "    <tr>\n",
       "      <th>2</th>\n",
       "      <td>R</td>\n",
       "      <td></td>\n",
       "      <td></td>\n",
       "      <td></td>\n",
       "    </tr>\n",
       "    <tr>\n",
       "      <th>3</th>\n",
       "      <td>R, R, R, R</td>\n",
       "      <td></td>\n",
       "      <td></td>\n",
       "      <td></td>\n",
       "    </tr>\n",
       "    <tr>\n",
       "      <th>4</th>\n",
       "      <td>R, R, R, R, R</td>\n",
       "      <td></td>\n",
       "      <td>Tableau</td>\n",
       "      <td>Oracle</td>\n",
       "    </tr>\n",
       "    <tr>\n",
       "      <th>5</th>\n",
       "      <td></td>\n",
       "      <td></td>\n",
       "      <td></td>\n",
       "      <td></td>\n",
       "    </tr>\n",
       "    <tr>\n",
       "      <th>6</th>\n",
       "      <td>SQL, Python</td>\n",
       "      <td>Microsoft Excel, Microsoft Excel</td>\n",
       "      <td>Tableau, Power BI</td>\n",
       "      <td></td>\n",
       "    </tr>\n",
       "    <tr>\n",
       "      <th>7</th>\n",
       "      <td>R</td>\n",
       "      <td></td>\n",
       "      <td></td>\n",
       "      <td></td>\n",
       "    </tr>\n",
       "    <tr>\n",
       "      <th>8</th>\n",
       "      <td></td>\n",
       "      <td></td>\n",
       "      <td></td>\n",
       "      <td></td>\n",
       "    </tr>\n",
       "    <tr>\n",
       "      <th>9</th>\n",
       "      <td>R, R</td>\n",
       "      <td></td>\n",
       "      <td></td>\n",
       "      <td></td>\n",
       "    </tr>\n",
       "  </tbody>\n",
       "</table>\n",
       "</div>"
      ],
      "text/plain": [
       "  programming_language                 data-manipulation data-visualisation  \\\n",
       "0                  SQL                                              Tableau   \n",
       "1            R, Python                                             Power BI   \n",
       "2                    R                                                        \n",
       "3           R, R, R, R                                                        \n",
       "4        R, R, R, R, R                                              Tableau   \n",
       "5                                                                             \n",
       "6          SQL, Python  Microsoft Excel, Microsoft Excel  Tableau, Power BI   \n",
       "7                    R                                                        \n",
       "8                                                                             \n",
       "9                 R, R                                                        \n",
       "\n",
       "  database  \n",
       "0           \n",
       "1           \n",
       "2           \n",
       "3           \n",
       "4   Oracle  \n",
       "5           \n",
       "6           \n",
       "7           \n",
       "8           \n",
       "9           "
      ]
     },
     "execution_count": 90,
     "metadata": {},
     "output_type": "execute_result"
    }
   ],
   "source": [
    "df3.head(10)"
   ]
  },
  {
   "cell_type": "code",
   "execution_count": 92,
   "metadata": {},
   "outputs": [],
   "source": [
    "df4=df3.copy()"
   ]
  },
  {
   "cell_type": "markdown",
   "metadata": {},
   "source": [
    "The `remove_duplicates` function is designed to eliminate duplicate elements from a string while preserving the original element order. It takes a string as input, splits the elements based on the delimiter ', ', and returns a new string with duplicate elements removed.\n"
   ]
  },
  {
   "cell_type": "code",
   "execution_count": 96,
   "metadata": {},
   "outputs": [],
   "source": [
    "def remove_duplicates(s):\n",
    "    if s.strip():  # Check if the string is not empty or consists of only whitespace\n",
    "        elements = s.split(', ')\n",
    "        unique_elements = []\n",
    "        for element in elements:\n",
    "            if element and element not in unique_elements:  # Check if the element is not empty\n",
    "                unique_elements.append(element)\n",
    "        return ', '.join(unique_elements)\n",
    "    else:\n",
    "        return ''\n",
    "\n",
    "# Apply the customthe 'programming_language' column\n",
    " df4['programming_language'] = df4['programming_language'].apply(remove_duplicates)"
   ]
  },
  {
   "cell_type": "code",
   "execution_count": 98,
   "metadata": {},
   "outputs": [],
   "source": [
    "df4['data-manipulation'] = df4['data-manipulation'].apply(remove_duplicates)"
   ]
  },
  {
   "cell_type": "code",
   "execution_count": 99,
   "metadata": {},
   "outputs": [],
   "source": [
    "df4['data-visualisation'] = df4['data-visualisation'].apply(remove_duplicates)"
   ]
  },
  {
   "cell_type": "code",
   "execution_count": 100,
   "metadata": {},
   "outputs": [],
   "source": [
    "df4['database'] = df4['database'].apply(remove_duplicates)"
   ]
  },
  {
   "cell_type": "code",
   "execution_count": 101,
   "metadata": {},
   "outputs": [
    {
     "data": {
      "text/html": [
       "<div>\n",
       "<style scoped>\n",
       "    .dataframe tbody tr th:only-of-type {\n",
       "        vertical-align: middle;\n",
       "    }\n",
       "\n",
       "    .dataframe tbody tr th {\n",
       "        vertical-align: top;\n",
       "    }\n",
       "\n",
       "    .dataframe thead th {\n",
       "        text-align: right;\n",
       "    }\n",
       "</style>\n",
       "<table border=\"1\" class=\"dataframe\">\n",
       "  <thead>\n",
       "    <tr style=\"text-align: right;\">\n",
       "      <th></th>\n",
       "      <th>programming_language</th>\n",
       "      <th>data-manipulation</th>\n",
       "      <th>data-visualisation</th>\n",
       "      <th>database</th>\n",
       "    </tr>\n",
       "  </thead>\n",
       "  <tbody>\n",
       "    <tr>\n",
       "      <th>0</th>\n",
       "      <td>SQL</td>\n",
       "      <td></td>\n",
       "      <td>Tableau</td>\n",
       "      <td></td>\n",
       "    </tr>\n",
       "    <tr>\n",
       "      <th>1</th>\n",
       "      <td>R, Python</td>\n",
       "      <td></td>\n",
       "      <td>Power BI</td>\n",
       "      <td></td>\n",
       "    </tr>\n",
       "    <tr>\n",
       "      <th>2</th>\n",
       "      <td>R</td>\n",
       "      <td></td>\n",
       "      <td></td>\n",
       "      <td></td>\n",
       "    </tr>\n",
       "    <tr>\n",
       "      <th>3</th>\n",
       "      <td>R</td>\n",
       "      <td></td>\n",
       "      <td></td>\n",
       "      <td></td>\n",
       "    </tr>\n",
       "    <tr>\n",
       "      <th>4</th>\n",
       "      <td>R</td>\n",
       "      <td></td>\n",
       "      <td>Tableau</td>\n",
       "      <td>Oracle</td>\n",
       "    </tr>\n",
       "    <tr>\n",
       "      <th>...</th>\n",
       "      <td>...</td>\n",
       "      <td>...</td>\n",
       "      <td>...</td>\n",
       "      <td>...</td>\n",
       "    </tr>\n",
       "    <tr>\n",
       "      <th>153</th>\n",
       "      <td>R, SQL, SAS, C#</td>\n",
       "      <td></td>\n",
       "      <td>Power BI</td>\n",
       "      <td>Microsoft SQL Server, Oracle, MongoDB</td>\n",
       "    </tr>\n",
       "    <tr>\n",
       "      <th>154</th>\n",
       "      <td>R</td>\n",
       "      <td></td>\n",
       "      <td></td>\n",
       "      <td></td>\n",
       "    </tr>\n",
       "    <tr>\n",
       "      <th>155</th>\n",
       "      <td>R</td>\n",
       "      <td></td>\n",
       "      <td></td>\n",
       "      <td></td>\n",
       "    </tr>\n",
       "    <tr>\n",
       "      <th>156</th>\n",
       "      <td></td>\n",
       "      <td></td>\n",
       "      <td></td>\n",
       "      <td></td>\n",
       "    </tr>\n",
       "    <tr>\n",
       "      <th>157</th>\n",
       "      <td></td>\n",
       "      <td></td>\n",
       "      <td></td>\n",
       "      <td></td>\n",
       "    </tr>\n",
       "  </tbody>\n",
       "</table>\n",
       "<p>158 rows × 4 columns</p>\n",
       "</div>"
      ],
      "text/plain": [
       "    programming_language data-manipulation data-visualisation  \\\n",
       "0                    SQL                              Tableau   \n",
       "1              R, Python                             Power BI   \n",
       "2                      R                                        \n",
       "3                      R                                        \n",
       "4                      R                              Tableau   \n",
       "..                   ...               ...                ...   \n",
       "153      R, SQL, SAS, C#                             Power BI   \n",
       "154                    R                                        \n",
       "155                    R                                        \n",
       "156                                                             \n",
       "157                                                             \n",
       "\n",
       "                                  database  \n",
       "0                                           \n",
       "1                                           \n",
       "2                                           \n",
       "3                                           \n",
       "4                                   Oracle  \n",
       "..                                     ...  \n",
       "153  Microsoft SQL Server, Oracle, MongoDB  \n",
       "154                                         \n",
       "155                                         \n",
       "156                                         \n",
       "157                                         \n",
       "\n",
       "[158 rows x 4 columns]"
      ]
     },
     "execution_count": 101,
     "metadata": {},
     "output_type": "execute_result"
    }
   ],
   "source": [
    "df4"
   ]
  },
  {
   "cell_type": "code",
   "execution_count": 102,
   "metadata": {},
   "outputs": [],
   "source": [
    "niv = ['bac+2','BAC+2','bac+3','BAC+3','bac+5','BAC+5','licence','master','LICENCE','MASTER']\n",
    "pattern = '|'.join(map(re.escape, niv)) # Escape the special characters\n",
    "degree=[]\n",
    "for c in competences:\n",
    "    lama=[]\n",
    "    for string in c:\n",
    "\n",
    "# Find all occurrences of the pattern in the string\n",
    "        matches = re.finditer(pattern, string)\n",
    "\n",
    "# Extract the matched terms\n",
    "        lama.extend([match.group(0) for match in matches])\n",
    "\n",
    "    degree.append(lama)"
   ]
  },
  {
   "cell_type": "code",
   "execution_count": 104,
   "metadata": {},
   "outputs": [
    {
     "data": {
      "text/plain": [
       "158"
      ]
     },
     "execution_count": 104,
     "metadata": {},
     "output_type": "execute_result"
    }
   ],
   "source": [
    "len(degree)"
   ]
  },
  {
   "cell_type": "code",
   "execution_count": 105,
   "metadata": {},
   "outputs": [],
   "source": [
    "cleaned_degree= [', '.join(filter(None, sublist)) for sublist in degree]"
   ]
  },
  {
   "cell_type": "code",
   "execution_count": 107,
   "metadata": {},
   "outputs": [],
   "source": [
    "df4['degree']=cleaned_degree"
   ]
  },
  {
   "cell_type": "code",
   "execution_count": 108,
   "metadata": {},
   "outputs": [
    {
     "data": {
      "text/html": [
       "<div>\n",
       "<style scoped>\n",
       "    .dataframe tbody tr th:only-of-type {\n",
       "        vertical-align: middle;\n",
       "    }\n",
       "\n",
       "    .dataframe tbody tr th {\n",
       "        vertical-align: top;\n",
       "    }\n",
       "\n",
       "    .dataframe thead th {\n",
       "        text-align: right;\n",
       "    }\n",
       "</style>\n",
       "<table border=\"1\" class=\"dataframe\">\n",
       "  <thead>\n",
       "    <tr style=\"text-align: right;\">\n",
       "      <th></th>\n",
       "      <th>programming_language</th>\n",
       "      <th>data-manipulation</th>\n",
       "      <th>data-visualisation</th>\n",
       "      <th>database</th>\n",
       "      <th>degree</th>\n",
       "    </tr>\n",
       "  </thead>\n",
       "  <tbody>\n",
       "    <tr>\n",
       "      <th>0</th>\n",
       "      <td>SQL</td>\n",
       "      <td></td>\n",
       "      <td>Tableau</td>\n",
       "      <td></td>\n",
       "      <td></td>\n",
       "    </tr>\n",
       "    <tr>\n",
       "      <th>1</th>\n",
       "      <td>R, Python</td>\n",
       "      <td></td>\n",
       "      <td>Power BI</td>\n",
       "      <td></td>\n",
       "      <td></td>\n",
       "    </tr>\n",
       "    <tr>\n",
       "      <th>2</th>\n",
       "      <td>R</td>\n",
       "      <td></td>\n",
       "      <td></td>\n",
       "      <td></td>\n",
       "      <td>BAC+3</td>\n",
       "    </tr>\n",
       "    <tr>\n",
       "      <th>3</th>\n",
       "      <td>R</td>\n",
       "      <td></td>\n",
       "      <td></td>\n",
       "      <td></td>\n",
       "      <td></td>\n",
       "    </tr>\n",
       "    <tr>\n",
       "      <th>4</th>\n",
       "      <td>R</td>\n",
       "      <td></td>\n",
       "      <td>Tableau</td>\n",
       "      <td>Oracle</td>\n",
       "      <td></td>\n",
       "    </tr>\n",
       "    <tr>\n",
       "      <th>...</th>\n",
       "      <td>...</td>\n",
       "      <td>...</td>\n",
       "      <td>...</td>\n",
       "      <td>...</td>\n",
       "      <td>...</td>\n",
       "    </tr>\n",
       "    <tr>\n",
       "      <th>153</th>\n",
       "      <td>R, SQL, SAS, C#</td>\n",
       "      <td></td>\n",
       "      <td>Power BI</td>\n",
       "      <td>Microsoft SQL Server, Oracle, MongoDB</td>\n",
       "      <td>master</td>\n",
       "    </tr>\n",
       "    <tr>\n",
       "      <th>154</th>\n",
       "      <td>R</td>\n",
       "      <td></td>\n",
       "      <td></td>\n",
       "      <td></td>\n",
       "      <td>master</td>\n",
       "    </tr>\n",
       "    <tr>\n",
       "      <th>155</th>\n",
       "      <td>R</td>\n",
       "      <td></td>\n",
       "      <td></td>\n",
       "      <td></td>\n",
       "      <td></td>\n",
       "    </tr>\n",
       "    <tr>\n",
       "      <th>156</th>\n",
       "      <td></td>\n",
       "      <td></td>\n",
       "      <td></td>\n",
       "      <td></td>\n",
       "      <td></td>\n",
       "    </tr>\n",
       "    <tr>\n",
       "      <th>157</th>\n",
       "      <td></td>\n",
       "      <td></td>\n",
       "      <td></td>\n",
       "      <td></td>\n",
       "      <td></td>\n",
       "    </tr>\n",
       "  </tbody>\n",
       "</table>\n",
       "<p>158 rows × 5 columns</p>\n",
       "</div>"
      ],
      "text/plain": [
       "    programming_language data-manipulation data-visualisation  \\\n",
       "0                    SQL                              Tableau   \n",
       "1              R, Python                             Power BI   \n",
       "2                      R                                        \n",
       "3                      R                                        \n",
       "4                      R                              Tableau   \n",
       "..                   ...               ...                ...   \n",
       "153      R, SQL, SAS, C#                             Power BI   \n",
       "154                    R                                        \n",
       "155                    R                                        \n",
       "156                                                             \n",
       "157                                                             \n",
       "\n",
       "                                  database  degree  \n",
       "0                                                   \n",
       "1                                                   \n",
       "2                                            BAC+3  \n",
       "3                                                   \n",
       "4                                   Oracle          \n",
       "..                                     ...     ...  \n",
       "153  Microsoft SQL Server, Oracle, MongoDB  master  \n",
       "154                                         master  \n",
       "155                                                 \n",
       "156                                                 \n",
       "157                                                 \n",
       "\n",
       "[158 rows x 5 columns]"
      ]
     },
     "execution_count": 108,
     "metadata": {},
     "output_type": "execute_result"
    }
   ],
   "source": [
    "df4"
   ]
  },
  {
   "cell_type": "code",
   "execution_count": 109,
   "metadata": {},
   "outputs": [],
   "source": [
    "df4['degree'] = df4['degree'].apply(remove_duplicates)"
   ]
  },
  {
   "cell_type": "code",
   "execution_count": 112,
   "metadata": {},
   "outputs": [
    {
     "data": {
      "text/html": [
       "<div>\n",
       "<style scoped>\n",
       "    .dataframe tbody tr th:only-of-type {\n",
       "        vertical-align: middle;\n",
       "    }\n",
       "\n",
       "    .dataframe tbody tr th {\n",
       "        vertical-align: top;\n",
       "    }\n",
       "\n",
       "    .dataframe thead th {\n",
       "        text-align: right;\n",
       "    }\n",
       "</style>\n",
       "<table border=\"1\" class=\"dataframe\">\n",
       "  <thead>\n",
       "    <tr style=\"text-align: right;\">\n",
       "      <th></th>\n",
       "      <th>programming_language</th>\n",
       "      <th>data-manipulation</th>\n",
       "      <th>data-visualisation</th>\n",
       "      <th>database</th>\n",
       "      <th>degree</th>\n",
       "    </tr>\n",
       "  </thead>\n",
       "  <tbody>\n",
       "    <tr>\n",
       "      <th>0</th>\n",
       "      <td>SQL</td>\n",
       "      <td></td>\n",
       "      <td>Tableau</td>\n",
       "      <td></td>\n",
       "      <td></td>\n",
       "    </tr>\n",
       "    <tr>\n",
       "      <th>1</th>\n",
       "      <td>R, Python</td>\n",
       "      <td></td>\n",
       "      <td>Power BI</td>\n",
       "      <td></td>\n",
       "      <td></td>\n",
       "    </tr>\n",
       "    <tr>\n",
       "      <th>2</th>\n",
       "      <td>R</td>\n",
       "      <td></td>\n",
       "      <td></td>\n",
       "      <td></td>\n",
       "      <td>BAC+3</td>\n",
       "    </tr>\n",
       "    <tr>\n",
       "      <th>3</th>\n",
       "      <td>R</td>\n",
       "      <td></td>\n",
       "      <td></td>\n",
       "      <td></td>\n",
       "      <td></td>\n",
       "    </tr>\n",
       "    <tr>\n",
       "      <th>4</th>\n",
       "      <td>R</td>\n",
       "      <td></td>\n",
       "      <td>Tableau</td>\n",
       "      <td>Oracle</td>\n",
       "      <td></td>\n",
       "    </tr>\n",
       "    <tr>\n",
       "      <th>...</th>\n",
       "      <td>...</td>\n",
       "      <td>...</td>\n",
       "      <td>...</td>\n",
       "      <td>...</td>\n",
       "      <td>...</td>\n",
       "    </tr>\n",
       "    <tr>\n",
       "      <th>153</th>\n",
       "      <td>R, SQL, SAS, C#</td>\n",
       "      <td></td>\n",
       "      <td>Power BI</td>\n",
       "      <td>Microsoft SQL Server, Oracle, MongoDB</td>\n",
       "      <td>master</td>\n",
       "    </tr>\n",
       "    <tr>\n",
       "      <th>154</th>\n",
       "      <td>R</td>\n",
       "      <td></td>\n",
       "      <td></td>\n",
       "      <td></td>\n",
       "      <td>master</td>\n",
       "    </tr>\n",
       "    <tr>\n",
       "      <th>155</th>\n",
       "      <td>R</td>\n",
       "      <td></td>\n",
       "      <td></td>\n",
       "      <td></td>\n",
       "      <td></td>\n",
       "    </tr>\n",
       "    <tr>\n",
       "      <th>156</th>\n",
       "      <td></td>\n",
       "      <td></td>\n",
       "      <td></td>\n",
       "      <td></td>\n",
       "      <td></td>\n",
       "    </tr>\n",
       "    <tr>\n",
       "      <th>157</th>\n",
       "      <td></td>\n",
       "      <td></td>\n",
       "      <td></td>\n",
       "      <td></td>\n",
       "      <td></td>\n",
       "    </tr>\n",
       "  </tbody>\n",
       "</table>\n",
       "<p>158 rows × 5 columns</p>\n",
       "</div>"
      ],
      "text/plain": [
       "    programming_language data-manipulation data-visualisation  \\\n",
       "0                    SQL                              Tableau   \n",
       "1              R, Python                             Power BI   \n",
       "2                      R                                        \n",
       "3                      R                                        \n",
       "4                      R                              Tableau   \n",
       "..                   ...               ...                ...   \n",
       "153      R, SQL, SAS, C#                             Power BI   \n",
       "154                    R                                        \n",
       "155                    R                                        \n",
       "156                                                             \n",
       "157                                                             \n",
       "\n",
       "                                  database  degree  \n",
       "0                                                   \n",
       "1                                                   \n",
       "2                                            BAC+3  \n",
       "3                                                   \n",
       "4                                   Oracle          \n",
       "..                                     ...     ...  \n",
       "153  Microsoft SQL Server, Oracle, MongoDB  master  \n",
       "154                                         master  \n",
       "155                                                 \n",
       "156                                                 \n",
       "157                                                 \n",
       "\n",
       "[158 rows x 5 columns]"
      ]
     },
     "execution_count": 112,
     "metadata": {},
     "output_type": "execute_result"
    }
   ],
   "source": [
    "df4"
   ]
  },
  {
   "cell_type": "code",
   "execution_count": 114,
   "metadata": {},
   "outputs": [],
   "source": [
    "df4['degree'] = df4['degree'].str.replace('master', 'BAC+5')\n"
   ]
  },
  {
   "cell_type": "code",
   "execution_count": 115,
   "metadata": {},
   "outputs": [
    {
     "data": {
      "text/html": [
       "<div>\n",
       "<style scoped>\n",
       "    .dataframe tbody tr th:only-of-type {\n",
       "        vertical-align: middle;\n",
       "    }\n",
       "\n",
       "    .dataframe tbody tr th {\n",
       "        vertical-align: top;\n",
       "    }\n",
       "\n",
       "    .dataframe thead th {\n",
       "        text-align: right;\n",
       "    }\n",
       "</style>\n",
       "<table border=\"1\" class=\"dataframe\">\n",
       "  <thead>\n",
       "    <tr style=\"text-align: right;\">\n",
       "      <th></th>\n",
       "      <th>programming_language</th>\n",
       "      <th>data-manipulation</th>\n",
       "      <th>data-visualisation</th>\n",
       "      <th>database</th>\n",
       "      <th>degree</th>\n",
       "    </tr>\n",
       "  </thead>\n",
       "  <tbody>\n",
       "    <tr>\n",
       "      <th>0</th>\n",
       "      <td>SQL</td>\n",
       "      <td></td>\n",
       "      <td>Tableau</td>\n",
       "      <td></td>\n",
       "      <td></td>\n",
       "    </tr>\n",
       "    <tr>\n",
       "      <th>1</th>\n",
       "      <td>R, Python</td>\n",
       "      <td></td>\n",
       "      <td>Power BI</td>\n",
       "      <td></td>\n",
       "      <td></td>\n",
       "    </tr>\n",
       "    <tr>\n",
       "      <th>2</th>\n",
       "      <td>R</td>\n",
       "      <td></td>\n",
       "      <td></td>\n",
       "      <td></td>\n",
       "      <td>BAC+3</td>\n",
       "    </tr>\n",
       "    <tr>\n",
       "      <th>3</th>\n",
       "      <td>R</td>\n",
       "      <td></td>\n",
       "      <td></td>\n",
       "      <td></td>\n",
       "      <td></td>\n",
       "    </tr>\n",
       "    <tr>\n",
       "      <th>4</th>\n",
       "      <td>R</td>\n",
       "      <td></td>\n",
       "      <td>Tableau</td>\n",
       "      <td>Oracle</td>\n",
       "      <td></td>\n",
       "    </tr>\n",
       "    <tr>\n",
       "      <th>...</th>\n",
       "      <td>...</td>\n",
       "      <td>...</td>\n",
       "      <td>...</td>\n",
       "      <td>...</td>\n",
       "      <td>...</td>\n",
       "    </tr>\n",
       "    <tr>\n",
       "      <th>153</th>\n",
       "      <td>R, SQL, SAS, C#</td>\n",
       "      <td></td>\n",
       "      <td>Power BI</td>\n",
       "      <td>Microsoft SQL Server, Oracle, MongoDB</td>\n",
       "      <td>BAC+5</td>\n",
       "    </tr>\n",
       "    <tr>\n",
       "      <th>154</th>\n",
       "      <td>R</td>\n",
       "      <td></td>\n",
       "      <td></td>\n",
       "      <td></td>\n",
       "      <td>BAC+5</td>\n",
       "    </tr>\n",
       "    <tr>\n",
       "      <th>155</th>\n",
       "      <td>R</td>\n",
       "      <td></td>\n",
       "      <td></td>\n",
       "      <td></td>\n",
       "      <td></td>\n",
       "    </tr>\n",
       "    <tr>\n",
       "      <th>156</th>\n",
       "      <td></td>\n",
       "      <td></td>\n",
       "      <td></td>\n",
       "      <td></td>\n",
       "      <td></td>\n",
       "    </tr>\n",
       "    <tr>\n",
       "      <th>157</th>\n",
       "      <td></td>\n",
       "      <td></td>\n",
       "      <td></td>\n",
       "      <td></td>\n",
       "      <td></td>\n",
       "    </tr>\n",
       "  </tbody>\n",
       "</table>\n",
       "<p>158 rows × 5 columns</p>\n",
       "</div>"
      ],
      "text/plain": [
       "    programming_language data-manipulation data-visualisation  \\\n",
       "0                    SQL                              Tableau   \n",
       "1              R, Python                             Power BI   \n",
       "2                      R                                        \n",
       "3                      R                                        \n",
       "4                      R                              Tableau   \n",
       "..                   ...               ...                ...   \n",
       "153      R, SQL, SAS, C#                             Power BI   \n",
       "154                    R                                        \n",
       "155                    R                                        \n",
       "156                                                             \n",
       "157                                                             \n",
       "\n",
       "                                  database degree  \n",
       "0                                                  \n",
       "1                                                  \n",
       "2                                           BAC+3  \n",
       "3                                                  \n",
       "4                                   Oracle         \n",
       "..                                     ...    ...  \n",
       "153  Microsoft SQL Server, Oracle, MongoDB  BAC+5  \n",
       "154                                         BAC+5  \n",
       "155                                                \n",
       "156                                                \n",
       "157                                                \n",
       "\n",
       "[158 rows x 5 columns]"
      ]
     },
     "execution_count": 115,
     "metadata": {},
     "output_type": "execute_result"
    }
   ],
   "source": [
    "df4"
   ]
  },
  {
   "cell_type": "code",
   "execution_count": 116,
   "metadata": {},
   "outputs": [],
   "source": [
    "df5=df.join(df4)"
   ]
  },
  {
   "cell_type": "code",
   "execution_count": 118,
   "metadata": {},
   "outputs": [],
   "source": [
    "df5.to_csv('data-analyst-jobs_database.csv', index=False)"
   ]
  },
  {
   "cell_type": "markdown",
   "metadata": {},
   "source": [
    "#### Visualizations and Insights\n",
    "\n",
    "Utilizing the cleaned dataset, various visualizations were created to uncover valuable insights into the data analyst job market in Morocco. The visual representations include e charts, graphs, which provide a comprehensive overview of the key trends, patterns, and requirements observed within the job postings.\n",
    "\n",
    "Insights derived from the visualizations shed light on the most in-demand programming languages, data manipulation techniques, data visualization tools, and database technologies sought after by employers in the field of data analysis. The findings offer a nuanced understanding of the skill sets and proficiencies that are essential for aspiring data analysts seeking employment opportunities in Morocco.\n",
    "\n",
    "Please refer to the subsequent sections for a detailed analysis of the visualizations and the key takeaways derived from the exploration of the data analyst job market in Morocco."
   ]
  },
  {
   "cell_type": "code",
   "execution_count": 6,
   "metadata": {},
   "outputs": [],
   "source": [
    "import pandas as pd\n",
    "import matplotlib.pyplot as plt"
   ]
  },
  {
   "cell_type": "code",
   "execution_count": 7,
   "metadata": {},
   "outputs": [],
   "source": [
    "df=pd.read_csv('data-analyst-jobs_database.csv')"
   ]
  },
  {
   "cell_type": "code",
   "execution_count": 8,
   "metadata": {},
   "outputs": [],
   "source": [
    "df1=df.copy()"
   ]
  },
  {
   "cell_type": "code",
   "execution_count": 9,
   "metadata": {},
   "outputs": [],
   "source": [
    "df1.columns= pd.MultiIndex.from_tuples([('job card', 'job'), ('job card', 'company_name'), ('job card', 'location'),('job card', 'job_type'), ('job card', 'description'), ('job card', 'link'), ('job card', 'date'), ('required-skills','programming_language'), ('required-skills','data-manipulation'), ('required-skills','data-visualisation\t'), ('required-skills','database'), ('required-skills','degree')])"
   ]
  },
  {
   "cell_type": "code",
   "execution_count": 10,
   "metadata": {},
   "outputs": [
    {
     "data": {
      "text/html": [
       "<div>\n",
       "<style scoped>\n",
       "    .dataframe tbody tr th:only-of-type {\n",
       "        vertical-align: middle;\n",
       "    }\n",
       "\n",
       "    .dataframe tbody tr th {\n",
       "        vertical-align: top;\n",
       "    }\n",
       "\n",
       "    .dataframe thead tr th {\n",
       "        text-align: left;\n",
       "    }\n",
       "</style>\n",
       "<table border=\"1\" class=\"dataframe\">\n",
       "  <thead>\n",
       "    <tr>\n",
       "      <th></th>\n",
       "      <th colspan=\"7\" halign=\"left\">job card</th>\n",
       "      <th colspan=\"5\" halign=\"left\">required-skills</th>\n",
       "    </tr>\n",
       "    <tr>\n",
       "      <th></th>\n",
       "      <th>job</th>\n",
       "      <th>company_name</th>\n",
       "      <th>location</th>\n",
       "      <th>job_type</th>\n",
       "      <th>description</th>\n",
       "      <th>link</th>\n",
       "      <th>date</th>\n",
       "      <th>programming_language</th>\n",
       "      <th>data-manipulation</th>\n",
       "      <th>data-visualisation\\t</th>\n",
       "      <th>database</th>\n",
       "      <th>degree</th>\n",
       "    </tr>\n",
       "  </thead>\n",
       "  <tbody>\n",
       "    <tr>\n",
       "      <th>0</th>\n",
       "      <td>Data Analyst Junior</td>\n",
       "      <td>Mazars</td>\n",
       "      <td>Casablanca</td>\n",
       "      <td>Full-time +1</td>\n",
       "      <td>Vous possédez les connaissances de base parmi ...</td>\n",
       "      <td>https://ma.indeed.com/rc/clk?jk=9199992ed81408...</td>\n",
       "      <td>28/10/2023</td>\n",
       "      <td>SQL</td>\n",
       "      <td>NaN</td>\n",
       "      <td>Tableau</td>\n",
       "      <td>NaN</td>\n",
       "      <td>NaN</td>\n",
       "    </tr>\n",
       "    <tr>\n",
       "      <th>1</th>\n",
       "      <td>DATA ANALYST-(H/F)- H/F/X</td>\n",
       "      <td>Société Générale</td>\n",
       "      <td>Maroc</td>\n",
       "      <td>Permanent</td>\n",
       "      <td>Travailler en étroite collaboration avec les é...</td>\n",
       "      <td>https://ma.indeed.com/rc/clk?jk=b4badc2d01fa4b...</td>\n",
       "      <td>28/10/2023</td>\n",
       "      <td>R, Python</td>\n",
       "      <td>NaN</td>\n",
       "      <td>Power BI</td>\n",
       "      <td>NaN</td>\n",
       "      <td>NaN</td>\n",
       "    </tr>\n",
       "    <tr>\n",
       "      <th>2</th>\n",
       "      <td>Data analyst</td>\n",
       "      <td>FCZ</td>\n",
       "      <td>Rabat</td>\n",
       "      <td>NaN</td>\n",
       "      <td>Nous sommes à la recherche de cinq DATA ANALYS...</td>\n",
       "      <td>https://ma.indeed.com/rc/clk?jk=3c1075a23ed816...</td>\n",
       "      <td>28/10/2023</td>\n",
       "      <td>R</td>\n",
       "      <td>NaN</td>\n",
       "      <td>NaN</td>\n",
       "      <td>NaN</td>\n",
       "      <td>BAC+3</td>\n",
       "    </tr>\n",
       "    <tr>\n",
       "      <th>3</th>\n",
       "      <td>Data Analyst (F/H)</td>\n",
       "      <td>MANPOWER MAROC</td>\n",
       "      <td>Casablanca</td>\n",
       "      <td>Permanent</td>\n",
       "      <td>Encodage de questionnaire sur logiciel de trai...</td>\n",
       "      <td>https://ma.indeed.com/rc/clk?jk=be7b7dabde0a25...</td>\n",
       "      <td>28/10/2023</td>\n",
       "      <td>R</td>\n",
       "      <td>NaN</td>\n",
       "      <td>NaN</td>\n",
       "      <td>NaN</td>\n",
       "      <td>NaN</td>\n",
       "    </tr>\n",
       "    <tr>\n",
       "      <th>4</th>\n",
       "      <td>Data Quality Analyst Finance</td>\n",
       "      <td>BNP Paribas</td>\n",
       "      <td>Maroc</td>\n",
       "      <td>Permanent</td>\n",
       "      <td>Data management: recensement des anomalies de ...</td>\n",
       "      <td>https://ma.indeed.com/rc/clk?jk=17240d557883f2...</td>\n",
       "      <td>28/10/2023</td>\n",
       "      <td>R</td>\n",
       "      <td>NaN</td>\n",
       "      <td>Tableau</td>\n",
       "      <td>Oracle</td>\n",
       "      <td>NaN</td>\n",
       "    </tr>\n",
       "  </tbody>\n",
       "</table>\n",
       "</div>"
      ],
      "text/plain": [
       "                       job card                                              \\\n",
       "                            job      company_name    location      job_type   \n",
       "0           Data Analyst Junior            Mazars  Casablanca  Full-time +1   \n",
       "1     DATA ANALYST-(H/F)- H/F/X  Société Générale       Maroc     Permanent   \n",
       "2                  Data analyst               FCZ       Rabat           NaN   \n",
       "3            Data Analyst (F/H)    MANPOWER MAROC  Casablanca     Permanent   \n",
       "4  Data Quality Analyst Finance       BNP Paribas       Maroc     Permanent   \n",
       "\n",
       "                                                      \\\n",
       "                                         description   \n",
       "0  Vous possédez les connaissances de base parmi ...   \n",
       "1  Travailler en étroite collaboration avec les é...   \n",
       "2  Nous sommes à la recherche de cinq DATA ANALYS...   \n",
       "3  Encodage de questionnaire sur logiciel de trai...   \n",
       "4  Data management: recensement des anomalies de ...   \n",
       "\n",
       "                                                                  \\\n",
       "                                                link        date   \n",
       "0  https://ma.indeed.com/rc/clk?jk=9199992ed81408...  28/10/2023   \n",
       "1  https://ma.indeed.com/rc/clk?jk=b4badc2d01fa4b...  28/10/2023   \n",
       "2  https://ma.indeed.com/rc/clk?jk=3c1075a23ed816...  28/10/2023   \n",
       "3  https://ma.indeed.com/rc/clk?jk=be7b7dabde0a25...  28/10/2023   \n",
       "4  https://ma.indeed.com/rc/clk?jk=17240d557883f2...  28/10/2023   \n",
       "\n",
       "       required-skills                                                         \n",
       "  programming_language data-manipulation data-visualisation\\t database degree  \n",
       "0                  SQL               NaN              Tableau      NaN    NaN  \n",
       "1            R, Python               NaN             Power BI      NaN    NaN  \n",
       "2                    R               NaN                  NaN      NaN  BAC+3  \n",
       "3                    R               NaN                  NaN      NaN    NaN  \n",
       "4                    R               NaN              Tableau   Oracle    NaN  "
      ]
     },
     "execution_count": 10,
     "metadata": {},
     "output_type": "execute_result"
    }
   ],
   "source": [
    "df1.head()"
   ]
  },
  {
   "cell_type": "code",
   "execution_count": 11,
   "metadata": {},
   "outputs": [
    {
     "data": {
      "image/png": "[encoded data removed]",
      "text/plain": [
       "<Figure size 1000x600 with 1 Axes>"
      ]
     },
     "metadata": {},
     "output_type": "display_data"
    }
   ],
   "source": [
    "language_counts = df1['required-skills']['programming_language'].str.split(', ', expand=True).stack().value_counts()\n",
    "total_values = language_counts.sum()\n",
    "percentages = language_counts / total_values * 100\n",
    "\n",
    "# Plot the percentages and counts for each programming language\n",
    "plt.figure(figsize=(10, 6))\n",
    "plt.bar(language_counts.index, language_counts, color='blue', alpha=0.7, label='Counts')\n",
    "plt.plot(percentages.index, percentages, color='orange', marker='o', label='Percentages')\n",
    "plt.xlabel('Programming Language')\n",
    "plt.ylabel('Counts / Percentages')\n",
    "plt.title('Counts and Percentages of Programming Languages')\n",
    "plt.legend()\n",
    "plt.show()"
   ]
  },
  {
   "cell_type": "code",
   "execution_count": 14,
   "metadata": {},
   "outputs": [
    {
     "data": {
      "image/png": "[encoded data removed]",
      "text/plain": [
       "<Figure size 500x500 with 1 Axes>"
      ]
     },
     "metadata": {},
     "output_type": "display_data"
    }
   ],
   "source": [
    "manipulation_counts = df1['required-skills']['data-manipulation'].str.split(', ', expand=True).stack().value_counts()\n",
    "total_values = manipulation_counts.sum()\n",
    "percentages = manipulation_counts / total_values * 100\n",
    "\n",
    "# piechart the percentages  for each data-manipulation tool\n",
    "plt.figure(figsize=(5, 5))\n",
    "plt.pie(percentages, labels=percentages.index, autopct='%1.1f%%', startangle=90, colors=['green','blue'])\n",
    "plt.axis('equal')  # Equal aspect ratio ensures that pie is drawn as a circle.\n",
    "plt.title('Distribution of data-manipulation tools')\n",
    "plt.show()"
   ]
  },
  {
   "cell_type": "code",
   "execution_count": 13,
   "metadata": {},
   "outputs": [
    {
     "data": {
      "image/png": "[encoded data removed]",
      "text/plain": [
       "<Figure size 500x600 with 1 Axes>"
      ]
     },
     "metadata": {},
     "output_type": "display_data"
    }
   ],
   "source": [
    "vis_counts = df1['required-skills']['data-visualisation\t'].str.split(', ', expand=True).stack().value_counts()\n",
    "total_values = vis_counts.sum()\n",
    "percentages = vis_counts / total_values * 100\n",
    "# Plot the percentages and counts for each data-visualisation tools\n",
    "plt.figure(figsize=(5, 6))\n",
    "plt.pie(percentages, labels=percentages.index, autopct='%1.1f%%', startangle=90, colors=['mediumblue', 'tomato','forestgreen'])\n",
    "plt.axis('equal')  # Equal aspect ratio ensures that pie is drawn as a circle.\n",
    "plt.title('Distribution of data-visualisation tools')\n",
    "plt.show()"
   ]
  },
  {
   "cell_type": "code",
   "execution_count": 15,
   "metadata": {},
   "outputs": [
    {
     "data": {
      "image/png": "[encoded data removed]",
      "text/plain": [
       "<Figure size 500x600 with 1 Axes>"
      ]
     },
     "metadata": {},
     "output_type": "display_data"
    }
   ],
   "source": [
    "data_counts = df1['required-skills']['database'].str.split(', ', expand=True).stack().value_counts()\n",
    "total_values = data_counts.sum()\n",
    "percentages = data_counts / total_values * 100\n",
    "# Plot the percentages and counts for each database tools\n",
    "plt.figure(figsize=(5, 6))\n",
    "plt.pie(percentages, labels=percentages.index, autopct='%1.1f%%', startangle=90, colors=['mediumblue', 'forestgreen','red', 'slategray', 'coral'])\n",
    "plt.axis('equal')  # Equal aspect ratio ensures that pie is drawn as a circle.\n",
    "plt.title('Distribution of database tools')\n",
    "plt.show()"
   ]
  },
  {
   "cell_type": "code",
   "execution_count": 16,
   "metadata": {},
   "outputs": [
    {
     "data": {
      "image/png": "[encoded data removed]",
      "text/plain": [
       "<Figure size 300x400 with 1 Axes>"
      ]
     },
     "metadata": {},
     "output_type": "display_data"
    }
   ],
   "source": [
    "degree_counts = df1['required-skills']['degree'].str.split(', ', expand=True).stack().value_counts()\n",
    "total_values = degree_counts.sum()\n",
    "percentages = degree_counts / total_values * 100\n",
    "# Plot the percentages and counts for each required degree\n",
    "plt.figure(figsize=(3, 4))\n",
    "plt.bar(percentages.index, percentages, color='blue', alpha=0.5, label='%')\n",
    "\n",
    "plt.xlabel('degree')\n",
    "plt.ylabel(' Percentages')\n",
    "plt.title(' Percentages of required-degree')\n",
    "plt.legend()\n",
    "plt.show()"
   ]
  },
  {
   "cell_type": "markdown",
   "metadata": {},
   "source": [
    "## Conclusion\n",
    "\n",
    "This Jupyter Notebook project delved into the comprehensive analysis of the data analyst job market in Morocco, leveraging data extracted from the Indeed website. Through meticulous data scraping, cleaning, and visualization, we gained valuable insights into the prominent skills, technologies, and qualifications sought after by employers in the field of data analysis.\n",
    "\n",
    "The exploration of job postings unveiled the significance of programming languages, data manipulation techniques, data visualization tools, and database technologies in the context of the Moroccan job market. By deciphering the prevailing trends and requirements, this analysis serves as a valuable resource for aspiring data analysts and industry professionals looking to navigate the job landscape in Morocco.\n",
    "\n",
    "Despite the limitations in data scraping attempts, the findings presented in this notebook provide a robust foundation for understanding the dynamics of the data analyst job market and the evolving skill sets demanded by employers in Morocco.\n",
    "\n",
    "We hope that this analysis serves as a valuable reference and contributes to a deeper understanding of the evolving landscape of data analysis in the Moroccan job market.\n",
    "\n",
    "Thank you for exploring this notebook, and we encourage you to continue your data analysis journey with these insights in mind.\n",
    "\n",
    "--- \n",
    "*Note: This analysis is based on data collected from a specific point in time and may not reflect real-time job market conditions. Further research and exploration are encouraged for a comprehensive understanding of the current job landscape.*"
   ]
  }
 ],
 "metadata": {
  "kernelspec": {
   "display_name": "pydata-book",
   "language": "python",
   "name": "python3"
  },
  "language_info": {
   "codemirror_mode": {
    "name": "ipython",
    "version": 3
   },
   "file_extension": ".py",
   "mimetype": "text/x-python",
   "name": "python",
   "nbconvert_exporter": "python",
   "pygments_lexer": "ipython3",
   "version": "3.10.12"
  },
  "orig_nbformat": 4
 },
 "nbformat": 4,
 "nbformat_minor": 2
}
